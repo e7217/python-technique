{
 "cells": [
  {
   "cell_type": "code",
   "execution_count": 2,
   "metadata": {
    "collapsed": true
   },
   "outputs": [],
   "source": [
    "# Instance method example\n",
    "class InstMethod:\n",
    "\n",
    "    def __init__(self):\n",
    "        self.name = 'python'\n",
    "\n",
    "    def get_test(self):\n",
    "        print(f'hello {self.name}')"
   ]
  },
  {
   "cell_type": "code",
   "execution_count": 3,
   "outputs": [
    {
     "name": "stdout",
     "output_type": "stream",
     "text": [
      "hello python\n"
     ]
    }
   ],
   "source": [
    "instance = InstMethod()\n",
    "instance.get_test()"
   ],
   "metadata": {
    "collapsed": false,
    "pycharm": {
     "name": "#%%\n"
    }
   }
  },
  {
   "cell_type": "code",
   "execution_count": 11,
   "outputs": [],
   "source": [
    "# Class method example\n",
    "# 인스턴스를 굳이 만들지 않고 사용할 때, class method를 활용\n",
    "class ClsMethod:\n",
    "\n",
    "    @classmethod\n",
    "    def get_test(cls, *args):\n",
    "        print(f'hello {cls.__class__.__name__}')\n",
    "        for arg in args:\n",
    "            print(f'hello {arg}')"
   ],
   "metadata": {
    "collapsed": false,
    "pycharm": {
     "name": "#%%\n"
    }
   }
  },
  {
   "cell_type": "code",
   "execution_count": 12,
   "outputs": [
    {
     "name": "stdout",
     "output_type": "stream",
     "text": [
      "hello type\n",
      "hello world\n",
      "hello good bye\n"
     ]
    }
   ],
   "source": [
    "ClsMethod.get_test('world', 'good bye')"
   ],
   "metadata": {
    "collapsed": false,
    "pycharm": {
     "name": "#%%\n"
    }
   }
  },
  {
   "cell_type": "code",
   "execution_count": 15,
   "outputs": [],
   "source": [
    "# Static method example\n",
    "# 인스턴스나 클래스를 인자로 받지 않음\n",
    "# 클래스 내부에 선언되어 클래스 네임스페이드 안에 저장됨\n",
    "# 클래스를 통해서도, 인스턴스를 통해서도 호출 가능\n",
    "class StaticMethod:\n",
    "\n",
    "    @staticmethod\n",
    "    def get_test(name):\n",
    "        print(f'static method ==> {name}')"
   ],
   "metadata": {
    "collapsed": false,
    "pycharm": {
     "name": "#%%\n"
    }
   }
  },
  {
   "cell_type": "code",
   "execution_count": 17,
   "outputs": [
    {
     "name": "stdout",
     "output_type": "stream",
     "text": [
      "static method ==> instance\n",
      "static method ==> class\n"
     ]
    }
   ],
   "source": [
    "x = StaticMethod\n",
    "x.get_test('instance')\n",
    "StaticMethod.get_test('class')"
   ],
   "metadata": {
    "collapsed": false,
    "pycharm": {
     "name": "#%%\n"
    }
   }
  },
  {
   "cell_type": "code",
   "execution_count": null,
   "outputs": [],
   "source": [],
   "metadata": {
    "collapsed": false,
    "pycharm": {
     "name": "#%%\n"
    }
   }
  }
 ],
 "metadata": {
  "kernelspec": {
   "display_name": "Python 3",
   "language": "python",
   "name": "python3"
  },
  "language_info": {
   "codemirror_mode": {
    "name": "ipython",
    "version": 2
   },
   "file_extension": ".py",
   "mimetype": "text/x-python",
   "name": "python",
   "nbconvert_exporter": "python",
   "pygments_lexer": "ipython2",
   "version": "2.7.6"
  }
 },
 "nbformat": 4,
 "nbformat_minor": 0
}
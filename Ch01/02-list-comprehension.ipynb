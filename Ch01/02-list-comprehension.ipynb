{
 "cells": [
  {
   "cell_type": "code",
   "execution_count": 1,
   "metadata": {
    "collapsed": true
   },
   "outputs": [
    {
     "data": {
      "text/plain": "[1, 4, 9, 16, 25, 36, 49, 64]"
     },
     "execution_count": 1,
     "metadata": {},
     "output_type": "execute_result"
    }
   ],
   "source": [
    "a = [1,2,3,4,5,6,7,8]\n",
    "squres_lc = [x**2 for x in a]\n",
    "squres_lc"
   ]
  },
  {
   "cell_type": "code",
   "execution_count": 2,
   "outputs": [
    {
     "data": {
      "text/plain": "<map at 0x25fd56f55b0>"
     },
     "execution_count": 2,
     "metadata": {},
     "output_type": "execute_result"
    }
   ],
   "source": [
    "squres_map = map(lambda x: x ** 2, a)\n",
    "squres_map"
   ],
   "metadata": {
    "collapsed": false,
    "pycharm": {
     "name": "#%%\n"
    }
   }
  },
  {
   "cell_type": "code",
   "execution_count": 3,
   "outputs": [
    {
     "data": {
      "text/plain": "[1, 2, 3, 4, 5, 6, 7, 8, 9]"
     },
     "execution_count": 3,
     "metadata": {},
     "output_type": "execute_result"
    }
   ],
   "source": [
    "# 표현식이 두 개를 넘어가면 피하는 것이 좋다\n",
    "matrix = [[1,2,3],[4,5,6],[7,8,9]]\n",
    "flat = [x for row in matrix for x in row]\n",
    "flat"
   ],
   "metadata": {
    "collapsed": false,
    "pycharm": {
     "name": "#%%\n"
    }
   }
  },
  {
   "cell_type": "code",
   "execution_count": 5,
   "outputs": [
    {
     "name": "stdout",
     "output_type": "stream",
     "text": [
      "[5, 5, 4, 2, 4]\n"
     ]
    },
    {
     "data": {
      "text/plain": "<generator object <genexpr> at 0x0000025FD56FF200>"
     },
     "execution_count": 5,
     "metadata": {},
     "output_type": "execute_result"
    }
   ],
   "source": [
    "## 컴프리헨션이 클 때는 제너레이터 표현식을 고려\n",
    "txt = ['hello','world','this','is','test']\n",
    "value = [len(x) for x in txt]\n",
    "print(value)\n",
    "# ()로 감싸면 제너레이터로 생성 => 이터레이터로 평가됨\n",
    "it = (len(x) for x in txt)\n",
    "it"
   ],
   "metadata": {
    "collapsed": false,
    "pycharm": {
     "name": "#%%\n"
    }
   }
  },
  {
   "cell_type": "code",
   "execution_count": 20,
   "outputs": [
    {
     "name": "stdout",
     "output_type": "stream",
     "text": [
      "name :  Cecilia\n",
      "letters :  7\n",
      "name :  Lise\n",
      "letters :  4\n",
      "name :  Marie\n",
      "letters :  5\n"
     ]
    }
   ],
   "source": [
    "## 이터레이터를 병렬로 처리하려면 zip 활용\n",
    "names = ['Cecilia', 'Lise', 'Marie']\n",
    "letters = (len(n) for n in names)\n",
    "\n",
    "longest_name = None\n",
    "max_letters = 0\n",
    "\n",
    "for name, count in zip(names, letters):\n",
    "    print('name : ', name)\n",
    "    print('letters : ', count)"
   ],
   "metadata": {
    "collapsed": false,
    "pycharm": {
     "name": "#%%\n"
    }
   }
  },
  {
   "cell_type": "code",
   "execution_count": null,
   "outputs": [],
   "source": [],
   "metadata": {
    "collapsed": false,
    "pycharm": {
     "name": "#%%\n"
    }
   }
  }
 ],
 "metadata": {
  "kernelspec": {
   "display_name": "Python 3",
   "language": "python",
   "name": "python3"
  },
  "language_info": {
   "codemirror_mode": {
    "name": "ipython",
    "version": 2
   },
   "file_extension": ".py",
   "mimetype": "text/x-python",
   "name": "python",
   "nbconvert_exporter": "python",
   "pygments_lexer": "ipython2",
   "version": "2.7.6"
  }
 },
 "nbformat": 4,
 "nbformat_minor": 0
}